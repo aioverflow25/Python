{
 "cells": [
  {
   "cell_type": "code",
   "execution_count": 1,
   "id": "d6f14084",
   "metadata": {},
   "outputs": [
    {
     "name": "stdout",
     "output_type": "stream",
     "text": [
      "Woof!\n",
      "Meow!\n"
     ]
    }
   ],
   "source": [
    "# Polymorphism (Take Multiple Forms)\n",
    "class Animal:\n",
    "    def speak(self):\n",
    "        return \"Sound of Animal\"\n",
    "class Dog(Animal):\n",
    "    def speak(self):\n",
    "        return \"Woof!\"\n",
    "class cat(Animal):\n",
    "    def speak(self):\n",
    "        return \"Meow!\"\n",
    "dog = Dog()\n",
    "cat = cat()\n",
    "print(dog.speak())\n",
    "print(cat.speak())"
   ]
  },
  {
   "cell_type": "code",
   "execution_count": 2,
   "id": "003e7092",
   "metadata": {},
   "outputs": [
    {
     "name": "stdout",
     "output_type": "stream",
     "text": [
      "Woof!\n"
     ]
    }
   ],
   "source": [
    "## Function that demonstrate polymorphism\n",
    "def animal_speak(animal):\n",
    "    print(animal.speak())\n",
    "animal_speak(dog)"
   ]
  },
  {
   "cell_type": "code",
   "execution_count": 4,
   "id": "9e75b564",
   "metadata": {},
   "outputs": [],
   "source": [
    "### Polymorphism using functions and methods\n",
    "class Shape:\n",
    "    def area(self):\n",
    "        return \"The area of the figure\"\n",
    "class rectangle(Shape):\n",
    "    def __init__(self,width,height):\n",
    "        self.width = width\n",
    "        self.height = height\n",
    "    def area(self):\n",
    "        return self.width*self.height\n",
    "class circle(Shape):\n",
    "    def __init__(self,radius):\n",
    "        self.radius = radius\n",
    "    def area(self):\n",
    "        return 3.14 * self.radius * self.radius\n",
    "# Write a function\n",
    "\n",
    "def print_area(shape):\n",
    "    print(f\"The area is {shape.area()}\")\n",
    "rectangle = rectangle(12,13)\n",
    "circle = circle(12)\n",
    "shape = Shape()"
   ]
  },
  {
   "cell_type": "code",
   "execution_count": 5,
   "id": "47e6db49",
   "metadata": {},
   "outputs": [
    {
     "name": "stdout",
     "output_type": "stream",
     "text": [
      "The area is 156\n",
      "The area is 452.15999999999997\n",
      "The area is The area of the figure\n"
     ]
    }
   ],
   "source": [
    "print_area(rectangle)\n",
    "print_area(circle)\n",
    "print_area(shape)"
   ]
  },
  {
   "cell_type": "code",
   "execution_count": 10,
   "id": "205279de",
   "metadata": {},
   "outputs": [
    {
     "name": "stdout",
     "output_type": "stream",
     "text": [
      "Car engine started\n"
     ]
    },
    {
     "data": {
      "text/plain": [
       "'Motorcycle started'"
      ]
     },
     "execution_count": 10,
     "metadata": {},
     "output_type": "execute_result"
    }
   ],
   "source": [
    "# Polymorphism using abstract Base class\n",
    "from abc import ABC,abstractmethod\n",
    "## Define a abstract class\n",
    "\n",
    "class Vehicle(ABC):\n",
    "    @abstractmethod\n",
    "    def start_engine(self):\n",
    "        pass\n",
    "\n",
    "# Derived class 1\n",
    "class car(Vehicle):\n",
    "    def start_engine(self):\n",
    "        return \"Car engine started\"\n",
    "\n",
    "# Derived class 2\n",
    "class motorcycle(Vehicle):\n",
    "    def start_engine(self):\n",
    "        return \"Motorcycle started\"\n",
    "    \n",
    "# vc = Vehicle() Can't create object of abstract base class\n",
    "# print(vc.start_engine())\n",
    "car = car()\n",
    "mc = motorcycle()\n",
    "print(car.start_engine())\n",
    "mc.start_engine()"
   ]
  },
  {
   "cell_type": "code",
   "execution_count": null,
   "id": "a757cd61",
   "metadata": {},
   "outputs": [],
   "source": []
  }
 ],
 "metadata": {
  "kernelspec": {
   "display_name": "Python 3",
   "language": "python",
   "name": "python3"
  },
  "language_info": {
   "codemirror_mode": {
    "name": "ipython",
    "version": 3
   },
   "file_extension": ".py",
   "mimetype": "text/x-python",
   "name": "python",
   "nbconvert_exporter": "python",
   "pygments_lexer": "ipython3",
   "version": "3.12.0"
  }
 },
 "nbformat": 4,
 "nbformat_minor": 5
}
