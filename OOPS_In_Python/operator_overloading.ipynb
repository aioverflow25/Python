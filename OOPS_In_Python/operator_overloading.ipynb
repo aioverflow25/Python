{
 "cells": [
  {
   "cell_type": "code",
   "execution_count": null,
   "id": "96b21dba",
   "metadata": {},
   "outputs": [
    {
     "name": "stdout",
     "output_type": "stream",
     "text": [
      "1 + 2i\n",
      "2 + 3i\n",
      "3 + 5i\n",
      "-1 + -1i\n",
      "-2 + -4i\n",
      "0.05263157894736842 + 0.10526315789473684i\n",
      "False\n"
     ]
    }
   ],
   "source": [
    "class vector:\n",
    "    def __init__(self,x=0,y=0):\n",
    "        self.x = x\n",
    "        self.y = y\n",
    "    \n",
    "    def __str__(self):\n",
    "        return (f\"{self.x} + {self.y}i\")\n",
    "    \n",
    "    def __add__(self,vector2):\n",
    "        return vector(self.x+vector2.x,self.y+vector2.y)\n",
    "    \n",
    "    def __sub__(self,vector2):\n",
    "        return vector(self.x-vector2.x,self.y-vector2.y)\n",
    "    \n",
    "    def __mul__(self,other):\n",
    "        return vector(self.x*other,self.y*other)\n",
    "    \n",
    "    def __truediv__(self,other):\n",
    "        return vector(self.x/other,self.y/other)\n",
    "    \n",
    "    def __eq__(self,other):\n",
    "        return self.x==other.x and self.y==other.y\n",
    "\n",
    "\n",
    "v1 = vector(1,2)\n",
    "v2 = vector(2,3)\n",
    "print(v1)\n",
    "print(v2)\n",
    "print(v1+v2)\n",
    "print(v1-v2)\n",
    "print(v1*-2)\n",
    "print(v1/19)\n",
    "print(v1==v2)\n"
   ]
  },
  {
   "cell_type": "code",
   "execution_count": 6,
   "id": "428a2825",
   "metadata": {},
   "outputs": [
    {
     "data": {
      "text/plain": [
       "['__add__',\n",
       " '__class__',\n",
       " '__delattr__',\n",
       " '__dict__',\n",
       " '__dir__',\n",
       " '__doc__',\n",
       " '__eq__',\n",
       " '__format__',\n",
       " '__ge__',\n",
       " '__getattribute__',\n",
       " '__getstate__',\n",
       " '__gt__',\n",
       " '__hash__',\n",
       " '__init__',\n",
       " '__init_subclass__',\n",
       " '__le__',\n",
       " '__lt__',\n",
       " '__module__',\n",
       " '__ne__',\n",
       " '__new__',\n",
       " '__reduce__',\n",
       " '__reduce_ex__',\n",
       " '__repr__',\n",
       " '__setattr__',\n",
       " '__sizeof__',\n",
       " '__str__',\n",
       " '__subclasshook__',\n",
       " '__weakref__']"
      ]
     },
     "execution_count": 6,
     "metadata": {},
     "output_type": "execute_result"
    }
   ],
   "source": [
    "dir(vector)"
   ]
  },
  {
   "cell_type": "code",
   "execution_count": null,
   "id": "204ef3fd",
   "metadata": {},
   "outputs": [],
   "source": []
  }
 ],
 "metadata": {
  "kernelspec": {
   "display_name": "Python 3",
   "language": "python",
   "name": "python3"
  },
  "language_info": {
   "codemirror_mode": {
    "name": "ipython",
    "version": 3
   },
   "file_extension": ".py",
   "mimetype": "text/x-python",
   "name": "python",
   "nbconvert_exporter": "python",
   "pygments_lexer": "ipython3",
   "version": "3.12.0"
  }
 },
 "nbformat": 4,
 "nbformat_minor": 5
}
