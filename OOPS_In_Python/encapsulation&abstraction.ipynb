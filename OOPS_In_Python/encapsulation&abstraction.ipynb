{
 "cells": [
  {
   "cell_type": "code",
   "execution_count": 2,
   "id": "80c8f41f",
   "metadata": {},
   "outputs": [
    {
     "name": "stdout",
     "output_type": "stream",
     "text": [
      "Raman\n",
      "Raman\n"
     ]
    }
   ],
   "source": [
    "class Person:\n",
    "    def __init__(self,name,age):\n",
    "        self.name = name  # public variable\n",
    "        self.age = age    # public variable\n",
    "\n",
    "def get_name(person):\n",
    "    return person.name # Here we can access directly this variable outside the class\n",
    "\n",
    "person = Person(\"Raman\",28)\n",
    "print(person.name)\n",
    "print(get_name(person))"
   ]
  },
  {
   "cell_type": "code",
   "execution_count": 18,
   "id": "850a4c26",
   "metadata": {},
   "outputs": [],
   "source": [
    "# We are restricted to see some of the component of the class by using access modifier \n",
    "# It can't be access using outside of the class it can be accessed inside the class\n",
    "\n",
    "class Person:\n",
    "    def __init__(self,name,age,gender=\"Male\"):\n",
    "        self.__name = name  # private variable\n",
    "        self._age = age    # protected variable accessable only in derived class \n",
    "        self.gender = gender\n",
    "class employee(Person):\n",
    "    def __init__(self,name,age,gender):\n",
    "        super().__init__(name,age,gender)\n",
    "\n",
    "person = Person(\"Raman\",28)"
   ]
  },
  {
   "cell_type": "code",
   "execution_count": 22,
   "id": "26b5cc69",
   "metadata": {},
   "outputs": [
    {
     "name": "stdout",
     "output_type": "stream",
     "text": [
      "Male\n"
     ]
    }
   ],
   "source": [
    "emp = employee(\"Raman\",28,\"Male\")\n",
    "print(emp.gender)"
   ]
  },
  {
   "cell_type": "code",
   "execution_count": 8,
   "id": "2501e8f1",
   "metadata": {},
   "outputs": [
    {
     "data": {
      "text/plain": [
       "['_Person__age',\n",
       " '_Person__name',\n",
       " '__class__',\n",
       " '__delattr__',\n",
       " '__dict__',\n",
       " '__dir__',\n",
       " '__doc__',\n",
       " '__eq__',\n",
       " '__format__',\n",
       " '__ge__',\n",
       " '__getattribute__',\n",
       " '__getstate__',\n",
       " '__gt__',\n",
       " '__hash__',\n",
       " '__init__',\n",
       " '__init_subclass__',\n",
       " '__le__',\n",
       " '__lt__',\n",
       " '__module__',\n",
       " '__ne__',\n",
       " '__new__',\n",
       " '__reduce__',\n",
       " '__reduce_ex__',\n",
       " '__repr__',\n",
       " '__setattr__',\n",
       " '__sizeof__',\n",
       " '__str__',\n",
       " '__subclasshook__',\n",
       " '__weakref__',\n",
       " 'gender']"
      ]
     },
     "execution_count": 8,
     "metadata": {},
     "output_type": "execute_result"
    }
   ],
   "source": [
    "dir(person) # I am not able to see private variables"
   ]
  },
  {
   "cell_type": "code",
   "execution_count": 32,
   "id": "8c812fd1",
   "metadata": {},
   "outputs": [],
   "source": [
    "class Person:\n",
    "    def __init__(self, name, age, salary=0):\n",
    "        self.name = name           # Public\n",
    "        self._age = age            # Protected\n",
    "        self.__salary = salary     # Private\n",
    "\n",
    "class Employee(Person):\n",
    "    def __init__(self, name, age):\n",
    "        super().__init__(name,age)\n",
    "    \n",
    "    def show_data(self):\n",
    "        print(\"Name:\", self.name)       # ✅ Public - accessible\n",
    "        print(\"Age:\", self._age)        # ✅ Protected - accessible\n",
    "        #print(\"Salary:\", self.__salary) # ❌ Private - not accessible"
   ]
  },
  {
   "cell_type": "code",
   "execution_count": 33,
   "id": "44d9fa8e",
   "metadata": {},
   "outputs": [
    {
     "name": "stdout",
     "output_type": "stream",
     "text": [
      "Name: Raman\n",
      "Age: 28\n"
     ]
    }
   ],
   "source": [
    "emp = Employee(\"Raman\", 28)\n",
    "emp.show_data()"
   ]
  },
  {
   "cell_type": "code",
   "execution_count": 38,
   "id": "5ed3ffc3",
   "metadata": {},
   "outputs": [],
   "source": [
    "## Getter and setter\n",
    "class person:\n",
    "    def __init__(self,name,age):\n",
    "        self.__name = name\n",
    "        self.__age = age\n",
    "\n",
    "        ## getter method for name (Work like a button the internal things are hidden to us)\n",
    "    def get_name(self):\n",
    "        return self.__name\n",
    "        ## Setter method for name\n",
    "    def set_name(self,name):\n",
    "        self.__name = name\n",
    "        \n",
    "    def get_age(self):\n",
    "        return self.__age\n",
    "        ## Setter method for age\n",
    "    def set_age(self,age):\n",
    "        if age > 0:\n",
    "           self.__age = age\n",
    "        else:\n",
    "            print(\"Age can not be negative\")\n",
    "\n",
    "person = person(\"Raman\",28)"
   ]
  },
  {
   "cell_type": "code",
   "execution_count": 39,
   "id": "c977a3aa",
   "metadata": {},
   "outputs": [
    {
     "data": {
      "text/plain": [
       "'Raman'"
      ]
     },
     "execution_count": 39,
     "metadata": {},
     "output_type": "execute_result"
    }
   ],
   "source": [
    "person.get_name()"
   ]
  },
  {
   "cell_type": "code",
   "execution_count": 40,
   "id": "099dc8a5",
   "metadata": {},
   "outputs": [],
   "source": [
    "## ABstraction using the abstract class"
   ]
  },
  {
   "cell_type": "code",
   "execution_count": null,
   "id": "581c1355",
   "metadata": {},
   "outputs": [],
   "source": []
  }
 ],
 "metadata": {
  "kernelspec": {
   "display_name": "Python 3",
   "language": "python",
   "name": "python3"
  },
  "language_info": {
   "codemirror_mode": {
    "name": "ipython",
    "version": 3
   },
   "file_extension": ".py",
   "mimetype": "text/x-python",
   "name": "python",
   "nbconvert_exporter": "python",
   "pygments_lexer": "ipython3",
   "version": "3.12.0"
  }
 },
 "nbformat": 4,
 "nbformat_minor": 5
}
