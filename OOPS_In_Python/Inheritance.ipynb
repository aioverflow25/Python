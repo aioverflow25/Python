{
 "cells": [
  {
   "cell_type": "code",
   "execution_count": 1,
   "id": "d7371983",
   "metadata": {},
   "outputs": [],
   "source": [
    "# Parent class\n",
    "class car:\n",
    "    def __init__(self,windows,doors,enginetype):\n",
    "        self.windows=windows\n",
    "        self.doors=doors\n",
    "        self.enginetype=enginetype\n",
    "    \n",
    "    def drive(self):\n",
    "        print(f\"The person will drive the {self.enginetype} car\")"
   ]
  },
  {
   "cell_type": "code",
   "execution_count": 2,
   "id": "63d02355",
   "metadata": {},
   "outputs": [
    {
     "name": "stdout",
     "output_type": "stream",
     "text": [
      "The person will drive the petrol car\n"
     ]
    }
   ],
   "source": [
    "car1=car(4,5,'petrol')\n",
    "car1.drive()"
   ]
  },
  {
   "cell_type": "code",
   "execution_count": 8,
   "id": "d4c8a168",
   "metadata": {},
   "outputs": [],
   "source": [
    "class Tesla(car):\n",
    "    def __init__(self,windows,doors,enginetype,is_selfdriving):\n",
    "        super().__init__(windows,doors,enginetype) # Calling init method from car class\n",
    "        self.is_selfdriving = is_selfdriving\n",
    "    def drive(self):\n",
    "        print(\"SUbclass drive\")\n",
    "    def selfdriving(self):\n",
    "        print(f\"Tesla supports self driving {self.is_selfdriving}\")"
   ]
  },
  {
   "cell_type": "code",
   "execution_count": 11,
   "id": "1187c114",
   "metadata": {},
   "outputs": [
    {
     "name": "stdout",
     "output_type": "stream",
     "text": [
      "Tesla supports self driving True\n"
     ]
    }
   ],
   "source": [
    "Tesla1=Tesla(4,5,\"electric\",True)\n",
    "Tesla1.selfdriving()"
   ]
  },
  {
   "cell_type": "code",
   "execution_count": 12,
   "id": "8d3e3f64",
   "metadata": {},
   "outputs": [
    {
     "name": "stdout",
     "output_type": "stream",
     "text": [
      "SUbclass drive\n"
     ]
    }
   ],
   "source": [
    "# We call the parent class method he\n",
    "Tesla1.drive()"
   ]
  },
  {
   "cell_type": "markdown",
   "id": "dfd0b929",
   "metadata": {},
   "source": [
    "## Multiple Inheritance"
   ]
  },
  {
   "cell_type": "code",
   "execution_count": 16,
   "id": "05939277",
   "metadata": {},
   "outputs": [
    {
     "name": "stdout",
     "output_type": "stream",
     "text": [
      "Subclass must implement this method\n",
      "husky says woof\n"
     ]
    }
   ],
   "source": [
    "class animal:\n",
    "    def __init__(self,name):\n",
    "        self.name = name\n",
    "    def speak():\n",
    "        print(\"Subclass must implement this method\")\n",
    "class pet:\n",
    "    def __init__(self,owner):\n",
    "        self.owner = owner\n",
    "class dog(animal,pet):\n",
    "    def __init__(self,name,owner):\n",
    "        animal.name = name\n",
    "        pet.owner = owner\n",
    "    def speak(self):\n",
    "        animal.speak()\n",
    "        print(f\"{self.name} says woof\")\n",
    "husky = dog(\"husky\",\"raman\")\n",
    "husky.speak()  "
   ]
  },
  {
   "cell_type": "code",
   "execution_count": null,
   "id": "3ebbe247",
   "metadata": {},
   "outputs": [],
   "source": []
  }
 ],
 "metadata": {
  "kernelspec": {
   "display_name": "Python 3",
   "language": "python",
   "name": "python3"
  },
  "language_info": {
   "codemirror_mode": {
    "name": "ipython",
    "version": 3
   },
   "file_extension": ".py",
   "mimetype": "text/x-python",
   "name": "python",
   "nbconvert_exporter": "python",
   "pygments_lexer": "ipython3",
   "version": "3.12.0"
  }
 },
 "nbformat": 4,
 "nbformat_minor": 5
}
