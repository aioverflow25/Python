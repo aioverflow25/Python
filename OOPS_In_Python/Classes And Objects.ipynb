{
 "cells": [
  {
   "cell_type": "code",
   "execution_count": 1,
   "id": "d2148681",
   "metadata": {},
   "outputs": [
    {
     "name": "stdout",
     "output_type": "stream",
     "text": [
      "['__class__', '__delattr__', '__dict__', '__dir__', '__doc__', '__eq__', '__format__', '__ge__', '__getattribute__', '__getstate__', '__gt__', '__hash__', '__init__', '__init_subclass__', '__le__', '__lt__', '__module__', '__ne__', '__new__', '__reduce__', '__reduce_ex__', '__repr__', '__setattr__', '__sizeof__', '__str__', '__subclasshook__', '__weakref__', 'windows']\n"
     ]
    }
   ],
   "source": [
    "# Simple Class\n",
    "class car:\n",
    "    pass\n",
    "audi = car()\n",
    "audi.windows = 4\n",
    "print(dir(audi))"
   ]
  },
  {
   "cell_type": "code",
   "execution_count": 7,
   "id": "a433e0b7",
   "metadata": {},
   "outputs": [
    {
     "name": "stdout",
     "output_type": "stream",
     "text": [
      "Tommy 5\n",
      "Tommy says woof\n"
     ]
    }
   ],
   "source": [
    "# Instance variable and instance methods\n",
    "class Dog:\n",
    "    ## Contructor\n",
    "    def __init__(self,name,age): # here name and age are parameters\n",
    "        self.name=name # Here name is self.name is instance variable\n",
    "        self.age=age\n",
    "    def bark(self):\n",
    "        print(f'{self.name} says woof')\n",
    "dog1 = Dog(\"Tommy\",5)\n",
    "print(dog1.name,dog1.age)\n",
    "dog1.bark()"
   ]
  },
  {
   "cell_type": "code",
   "execution_count": 11,
   "id": "9693c300",
   "metadata": {},
   "outputs": [],
   "source": [
    "# Example Bank Account\n",
    "class BankAccount:\n",
    "    def __init__(self,name,balance=0):\n",
    "        self.owner=name\n",
    "        self.balance=balance\n",
    "    \n",
    "    def deposite(self,amount):\n",
    "        self.balance+=amount\n",
    "        print(f'{amount} deposited successfully new balance is {self.balance}')\n",
    "    \n",
    "    def withdraw(self,amount):\n",
    "        if amount>self.balance:\n",
    "            print(\"Insufficient Funds You have {self.balance} only\")\n",
    "        else:\n",
    "            self.balance-=amount\n",
    "            print(f\"{amount} withdrawn succeffully new balance is {self.balance}\")\n",
    "    def get_balance(self):\n",
    "        print(f'your balance is {self.balance}')\n",
    "\n",
    "obj1 = BankAccount(\"Ritesh\",90000)"
   ]
  },
  {
   "cell_type": "code",
   "execution_count": 9,
   "id": "087bc07c",
   "metadata": {},
   "outputs": [
    {
     "name": "stdout",
     "output_type": "stream",
     "text": [
      "your balance is 90000\n"
     ]
    }
   ],
   "source": [
    "obj1.get_balance()"
   ]
  },
  {
   "cell_type": "code",
   "execution_count": 12,
   "id": "bda547d9",
   "metadata": {},
   "outputs": [
    {
     "name": "stdout",
     "output_type": "stream",
     "text": [
      "10000 withdrawn succeffully new balance is 80000\n"
     ]
    }
   ],
   "source": [
    "obj1.withdraw(10000)"
   ]
  },
  {
   "cell_type": "code",
   "execution_count": 13,
   "id": "d6cf3a6d",
   "metadata": {},
   "outputs": [
    {
     "name": "stdout",
     "output_type": "stream",
     "text": [
      "10 deposited successfully new balance is 80010\n"
     ]
    }
   ],
   "source": [
    "obj1.deposite(10)"
   ]
  },
  {
   "cell_type": "code",
   "execution_count": null,
   "id": "e10974c0",
   "metadata": {},
   "outputs": [],
   "source": []
  }
 ],
 "metadata": {
  "kernelspec": {
   "display_name": "Python 3",
   "language": "python",
   "name": "python3"
  },
  "language_info": {
   "codemirror_mode": {
    "name": "ipython",
    "version": 3
   },
   "file_extension": ".py",
   "mimetype": "text/x-python",
   "name": "python",
   "nbconvert_exporter": "python",
   "pygments_lexer": "ipython3",
   "version": "3.12.0"
  }
 },
 "nbformat": 4,
 "nbformat_minor": 5
}
