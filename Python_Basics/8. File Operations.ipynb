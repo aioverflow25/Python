{
 "cells": [
  {
   "cell_type": "code",
   "execution_count": 1,
   "id": "ab7021b8",
   "metadata": {},
   "outputs": [
    {
     "name": "stdout",
     "output_type": "stream",
     "text": [
      "Hello how are you \n",
      "i am good\n",
      "raman is my name\n",
      "welcome to the course\n"
     ]
    }
   ],
   "source": [
    "## Read a whole file\n",
    "\n",
    "with open(\"example.txt\",\"r\") as file:\n",
    "    content = file.read()\n",
    "    print(content)"
   ]
  },
  {
   "cell_type": "code",
   "execution_count": 4,
   "id": "863b6a33",
   "metadata": {},
   "outputs": [
    {
     "name": "stdout",
     "output_type": "stream",
     "text": [
      "Hello how are you\n",
      "i am good\n",
      "raman is my name\n",
      "welcome to the course\n"
     ]
    }
   ],
   "source": [
    "# Read line by line \n",
    "with open(\"example.txt\",'r') as file:\n",
    "    for line in file:\n",
    "        print(line.strip())"
   ]
  },
  {
   "cell_type": "code",
   "execution_count": 6,
   "id": "484ecb62",
   "metadata": {},
   "outputs": [],
   "source": [
    "## Writing files\n",
    "with open(\"example.txt\",'w') as file:\n",
    "    file.write('Hello world\\n')\n",
    "    file.write('this is a new line\\n')\n",
    "# Entire content is overwritten"
   ]
  },
  {
   "cell_type": "code",
   "execution_count": 7,
   "id": "b8d0c756",
   "metadata": {},
   "outputs": [],
   "source": [
    "# Append mode\n",
    "with open(\"example.txt\",'a') as file:\n",
    "    file.write('Hello world\\n')\n",
    "    file.write('this is a new line\\n')"
   ]
  },
  {
   "cell_type": "code",
   "execution_count": 8,
   "id": "95dcf00b",
   "metadata": {},
   "outputs": [],
   "source": [
    "### Writing list of lines to files\n",
    "lines = ['First line \\n','Second line \\n','Third line \\n']\n",
    "with open('example.txt','a') as file:\n",
    "    file.writelines(lines)"
   ]
  },
  {
   "cell_type": "code",
   "execution_count": 10,
   "id": "d3d37d65",
   "metadata": {},
   "outputs": [],
   "source": [
    "## Binary files\n",
    "data = b'\\x00\\x01\\x02\\x03\\x04'\n",
    "with open('binary.txt','wb') as file:\n",
    "    file.write(data)"
   ]
  },
  {
   "cell_type": "code",
   "execution_count": 11,
   "id": "cc282e84",
   "metadata": {},
   "outputs": [
    {
     "name": "stdout",
     "output_type": "stream",
     "text": [
      "b'\\x00\\x01\\x02\\x03\\x04'\n"
     ]
    }
   ],
   "source": [
    "## Binary files\n",
    "data = b'\\x00\\x01\\x02\\x03\\x04'\n",
    "with open('binary.txt','rb') as file:\n",
    "    content = file.read()\n",
    "print(content)"
   ]
  },
  {
   "cell_type": "code",
   "execution_count": 14,
   "id": "e1fcda3e",
   "metadata": {},
   "outputs": [],
   "source": [
    "# Read the content from source text file write it to the destination text file \n",
    "with open('example.txt','r') as file:\n",
    "    content = file.read()\n",
    "with open('destination.txt','w') as file:\n",
    "    file.write(content)"
   ]
  },
  {
   "cell_type": "code",
   "execution_count": 30,
   "id": "5682789b",
   "metadata": {},
   "outputs": [
    {
     "name": "stdout",
     "output_type": "stream",
     "text": [
      "['Hello world\\n', 'this is a new line\\n', 'Hello world\\n', 'this is a new line\\n', 'First line \\n', 'Second line \\n', 'Third line \\n']\n",
      "No. of lines are 7\n",
      "No. of words are 20\n",
      "No. Of Characters are 76\n"
     ]
    }
   ],
   "source": [
    "# Read the text files and count the number of lines words and characters\n",
    "with open('example.txt','r')as file:\n",
    "    content = file.readlines()\n",
    "lines = len(content)\n",
    "wrds = 0\n",
    "charctrs = 0\n",
    "for line in content:\n",
    "    words = line.split()\n",
    "    for word in words:\n",
    "        for ch in word:\n",
    "            charctrs=charctrs+1\n",
    "    wrds=wrds+len(words)\n",
    "print(content)\n",
    "print(f'No. of lines are {lines}')\n",
    "print(f'No. of words are {wrds}')\n",
    "print(f'No. Of Characters are {charctrs}')"
   ]
  },
  {
   "cell_type": "code",
   "execution_count": null,
   "id": "df32f8a0",
   "metadata": {},
   "outputs": [
    {
     "name": "stdout",
     "output_type": "stream",
     "text": [
      "No. of lines are 7\n",
      "No. of words are 20\n",
      "No. Of Characters are 99\n"
     ]
    }
   ],
   "source": [
    "# ANother methos of above example\n",
    "\n",
    "with open('example.txt','r')as file:\n",
    "    lines = file.readlines()\n",
    "    line_count = len(lines)\n",
    "    word_count = sum(len(line.split()) for line in lines)\n",
    "    charctrs_count = sum(len(line) for line in lines )\n",
    "print(f'No. of lines are {line_count}')\n",
    "print(f'No. of words are {word_count}')\n",
    "print(f'No. Of Characters are {charctrs_count}')"
   ]
  },
  {
   "cell_type": "code",
   "execution_count": 35,
   "id": "da4c35ab",
   "metadata": {},
   "outputs": [
    {
     "name": "stdout",
     "output_type": "stream",
     "text": [
      "Hello world\n",
      "THis is new line \n",
      "\n"
     ]
    }
   ],
   "source": [
    "# Writing and reading a file\n",
    "with open('example.txt','w+') as file:\n",
    "    file.write(\"Hello world\\n\")\n",
    "    file.write(\"THis is new line \\n\")\n",
    "\n",
    "    ## Move the file cursor to beginning\n",
    "    file.seek(0)\n",
    "    content = file.read()\n",
    "    print(content) # Without file.seek(0) cursor will be at last"
   ]
  },
  {
   "cell_type": "markdown",
   "id": "325de1d7",
   "metadata": {},
   "source": [
    "# WOrking with file paths"
   ]
  },
  {
   "cell_type": "code",
   "execution_count": 1,
   "id": "2eb01839",
   "metadata": {},
   "outputs": [
    {
     "ename": "FileExistsError",
     "evalue": "[WinError 183] Cannot create a file when that file already exists: '9.Package'",
     "output_type": "error",
     "traceback": [
      "\u001b[31m---------------------------------------------------------------------------\u001b[39m",
      "\u001b[31mFileExistsError\u001b[39m                           Traceback (most recent call last)",
      "\u001b[36mCell\u001b[39m\u001b[36m \u001b[39m\u001b[32mIn[1]\u001b[39m\u001b[32m, line 4\u001b[39m\n\u001b[32m      2\u001b[39m new_directory = \u001b[33m\"\u001b[39m\u001b[33m9.Package\u001b[39m\u001b[33m\"\u001b[39m\n\u001b[32m      3\u001b[39m \u001b[38;5;28;01mimport\u001b[39;00m\u001b[38;5;250m \u001b[39m\u001b[34;01mos\u001b[39;00m\n\u001b[32m----> \u001b[39m\u001b[32m4\u001b[39m \u001b[43mos\u001b[49m\u001b[43m.\u001b[49m\u001b[43mmkdir\u001b[49m\u001b[43m(\u001b[49m\u001b[43mnew_directory\u001b[49m\u001b[43m)\u001b[49m\n",
      "\u001b[31mFileExistsError\u001b[39m: [WinError 183] Cannot create a file when that file already exists: '9.Package'"
     ]
    }
   ],
   "source": [
    "# Create a new directory\n",
    "new_directory = \"9.Package\"\n",
    "import os\n",
    "os.mkdir(new_directory)"
   ]
  },
  {
   "cell_type": "code",
   "execution_count": null,
   "id": "a5b8788d",
   "metadata": {},
   "outputs": [
    {
     "name": "stdout",
     "output_type": "stream",
     "text": [
      "['1.Basics.ipynb', '2. Variables.ipynb', '3. Data Types.ipynb', '4. Functions.ipynb', '6. Packages.ipynb', '7. Modules', '8. File Operations.ipynb', '9.Package', 'binary.txt', 'destination.txt', 'example.txt']\n"
     ]
    }
   ],
   "source": [
    "# Listing all the files in the  current directory\n",
    "items = os.listdir('.')\n",
    "print(items)"
   ]
  },
  {
   "cell_type": "code",
   "execution_count": 4,
   "id": "d1e241af",
   "metadata": {},
   "outputs": [
    {
     "name": "stdout",
     "output_type": "stream",
     "text": [
      "c:\\Users\\amans\\Desktop\\Udemy_Gen_AI_Krish_Naik\\1-Python\\Python_Basics\\folder\\file.txt\n"
     ]
    }
   ],
   "source": [
    "### joining Paths\n",
    "dir_name = \"folder\"\n",
    "file_name = \"file.txt\"\n",
    "full_path = os.path.join(os.getcwd(),dir_name,file_name)\n",
    "print(full_path)"
   ]
  },
  {
   "cell_type": "code",
   "execution_count": 8,
   "id": "bc7a9aaa",
   "metadata": {},
   "outputs": [
    {
     "name": "stdout",
     "output_type": "stream",
     "text": [
      "The path 4. Functions.ipynb exists\n"
     ]
    }
   ],
   "source": [
    "path = '4. Functions.ipynb'\n",
    "if os.path.exists(path):\n",
    "    print(f'The path {path} exists')\n",
    "else:\n",
    "    print(f'The path {path} does not exist')"
   ]
  },
  {
   "cell_type": "code",
   "execution_count": 9,
   "id": "c477e9b4",
   "metadata": {},
   "outputs": [
    {
     "name": "stdout",
     "output_type": "stream",
     "text": [
      "The path 4. Functions.ipynb is a file\n"
     ]
    }
   ],
   "source": [
    "path = '4. Functions.ipynb'\n",
    "if os.path.isfile(path):\n",
    "    print(f'The path {path} is a file')\n",
    "elif os.path.isdir(path):\n",
    "    print(f'The {path} is a folder')\n",
    "else:\n",
    "    print(f'The path {path} does not exist')"
   ]
  },
  {
   "cell_type": "code",
   "execution_count": 12,
   "id": "0974a77e",
   "metadata": {},
   "outputs": [
    {
     "name": "stdout",
     "output_type": "stream",
     "text": [
      "c:\\Users\\amans\\Desktop\\Udemy_Gen_AI_Krish_Naik\\1-Python\\Python_Basics\\binary.txt\n"
     ]
    }
   ],
   "source": [
    "## GEtting a absolute path\n",
    "relative_path = 'binary.txt'\n",
    "print(os.path.abspath(relative_path))"
   ]
  },
  {
   "cell_type": "code",
   "execution_count": null,
   "id": "9af972a3",
   "metadata": {},
   "outputs": [],
   "source": []
  }
 ],
 "metadata": {
  "kernelspec": {
   "display_name": "Python 3",
   "language": "python",
   "name": "python3"
  },
  "language_info": {
   "codemirror_mode": {
    "name": "ipython",
    "version": 3
   },
   "file_extension": ".py",
   "mimetype": "text/x-python",
   "name": "python",
   "nbconvert_exporter": "python",
   "pygments_lexer": "ipython3",
   "version": "3.12.0"
  }
 },
 "nbformat": 4,
 "nbformat_minor": 5
}
