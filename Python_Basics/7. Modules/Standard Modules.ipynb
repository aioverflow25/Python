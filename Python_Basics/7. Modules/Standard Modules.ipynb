{
 "cells": [
  {
   "cell_type": "code",
   "execution_count": 10,
   "id": "7cdfd09e",
   "metadata": {},
   "outputs": [
    {
     "name": "stdout",
     "output_type": "stream",
     "text": [
      "69\n",
      "iloveu\n"
     ]
    }
   ],
   "source": [
    "#random\n",
    "import random\n",
    "print(random.randint(1,100))\n",
    "print(random.choice([1,2,3,\"Raman\",6.78,\"iloveu\",[1,2,],{2,3,4}]))"
   ]
  },
  {
   "cell_type": "code",
   "execution_count": 1,
   "id": "be53e851",
   "metadata": {},
   "outputs": [
    {
     "name": "stdout",
     "output_type": "stream",
     "text": [
      "c:\\Users\\amans\\Desktop\\Udemy_Gen_AI_Krish_Naik\\1-Python\\Python_Basics\\6. Modules\n",
      "None\n"
     ]
    }
   ],
   "source": [
    "# os\n",
    "import os\n",
    "print(os.getcwd())\n",
    "print(os.mkdir(\"test\"))"
   ]
  },
  {
   "cell_type": "code",
   "execution_count": 2,
   "id": "0964d111",
   "metadata": {},
   "outputs": [
    {
     "data": {
      "text/plain": [
       "'destination.txt'"
      ]
     },
     "execution_count": 2,
     "metadata": {},
     "output_type": "execute_result"
    }
   ],
   "source": [
    "# Shutil\n",
    "import shutil\n",
    "shutil.copyfile('source.txt','destination.txt')"
   ]
  },
  {
   "cell_type": "code",
   "execution_count": 3,
   "id": "fd7707f9",
   "metadata": {},
   "outputs": [
    {
     "name": "stdout",
     "output_type": "stream",
     "text": [
      "{\"name\": \"Raman\", \"age\": 28}\n",
      "<class 'str'>\n",
      "{'name': 'Raman', 'age': 28}\n",
      "<class 'dict'>\n"
     ]
    }
   ],
   "source": [
    "# Json\n",
    "import json\n",
    "data = {'name':'Raman','age':28}\n",
    "json_data = json.dumps(data)\n",
    "print(json_data)\n",
    "print(type(json_data))\n",
    "\n",
    "parsed_data = json.loads(json_data)\n",
    "print(parsed_data)\n",
    "print(type(parsed_data))"
   ]
  },
  {
   "cell_type": "code",
   "execution_count": 5,
   "id": "55cf2ef1",
   "metadata": {},
   "outputs": [
    {
     "name": "stdout",
     "output_type": "stream",
     "text": [
      "['name', 'age']\n",
      "['raman', '28']\n"
     ]
    }
   ],
   "source": [
    "# csv\n",
    "import csv\n",
    "\n",
    "with open('example.csv',mode='w',newline='') as file:\n",
    "    writer = csv.writer(file)\n",
    "    writer.writerow(['name','age'])\n",
    "    writer.writerow(['raman',28])\n",
    "\n",
    "with open('example.csv',mode='r') as file:\n",
    "    reader = csv.reader(file)\n",
    "    for row in reader:\n",
    "        print(row)"
   ]
  },
  {
   "cell_type": "code",
   "execution_count": 7,
   "id": "7a55b988",
   "metadata": {},
   "outputs": [
    {
     "name": "stdout",
     "output_type": "stream",
     "text": [
      "2025-10-22 09:13:54.833435\n",
      "2025-10-20 09:13:54.833435\n"
     ]
    }
   ],
   "source": [
    "# Date time\n",
    "from datetime import datetime,timedelta\n",
    "now = datetime.now()\n",
    "print(now)\n",
    "yesterday = now-timedelta(days=2)\n",
    "print(yesterday)"
   ]
  },
  {
   "cell_type": "code",
   "execution_count": 9,
   "id": "1087fc30",
   "metadata": {},
   "outputs": [
    {
     "name": "stdout",
     "output_type": "stream",
     "text": [
      "1\n",
      "2\n",
      "3\n",
      "4\n",
      "5\n",
      "6\n",
      "7\n",
      "8\n",
      "9\n",
      "Execution time is : -> 0.0010232925415039062\n",
      "4.000558137893677\n"
     ]
    }
   ],
   "source": [
    "# Time\n",
    "import time\n",
    "start = time.time()\n",
    "for i in range(1,10):\n",
    "    print(i)\n",
    "end = time.time()\n",
    "print(f'Execution time is : -> {end-start}')\n",
    "start = time.time()\n",
    "time.sleep(4)\n",
    "end = time.time()\n",
    "print(end-start)"
   ]
  },
  {
   "cell_type": "code",
   "execution_count": 12,
   "id": "0ef219e7",
   "metadata": {},
   "outputs": [
    {
     "name": "stdout",
     "output_type": "stream",
     "text": [
      "456\n"
     ]
    },
    {
     "name": "stderr",
     "output_type": "stream",
     "text": [
      "<>:3: SyntaxWarning: invalid escape sequence '\\d'\n",
      "<>:3: SyntaxWarning: invalid escape sequence '\\d'\n",
      "C:\\Users\\amans\\AppData\\Local\\Temp\\ipykernel_8028\\3467620281.py:3: SyntaxWarning: invalid escape sequence '\\d'\n",
      "  pattern = '\\d+'\n"
     ]
    },
    {
     "data": {
      "text/plain": [
       "['456', '321']"
      ]
     },
     "execution_count": 12,
     "metadata": {},
     "output_type": "execute_result"
    }
   ],
   "source": [
    "# Regular expression\n",
    "import re\n",
    "pattern = '\\d+'\n",
    "text = \"They are 456 and 321\"\n",
    "match = re.search(pattern,text)\n",
    "print(match.group())\n",
    "re.findall(r'\\d+',text)"
   ]
  },
  {
   "cell_type": "code",
   "execution_count": 13,
   "id": "f0f1227f",
   "metadata": {},
   "outputs": [
    {
     "name": "stdout",
     "output_type": "stream",
     "text": [
      "['8010513272']\n",
      "['y', 'email', 'is', 'infotoramans', 'gmail', 'com', 'and', 'number', 'is']\n",
      "['infotoramans@gmail.com']\n",
      "['8010513272']\n"
     ]
    },
    {
     "name": "stderr",
     "output_type": "stream",
     "text": [
      "<>:7: SyntaxWarning: invalid escape sequence '\\w'\n",
      "<>:7: SyntaxWarning: invalid escape sequence '\\w'\n",
      "C:\\Users\\amans\\AppData\\Local\\Temp\\ipykernel_8028\\1874113630.py:7: SyntaxWarning: invalid escape sequence '\\w'\n",
      "  print(re.findall('\\w+@\\w+\\.\\w+',text))\n"
     ]
    }
   ],
   "source": [
    "# Example regular expression\n",
    "import re\n",
    "text = \"My email is infotoramans@gmail.com and number is 8010513272\"\n",
    "\n",
    "print(re.findall(r'\\d+',text))\n",
    "print(re.findall(r'[a-z]+',text))\n",
    "print(re.findall('\\w+@\\w+\\.\\w+',text))\n",
    "print(re.findall(r'\\d{10}',text))"
   ]
  },
  {
   "cell_type": "code",
   "execution_count": 15,
   "id": "c1ff2904",
   "metadata": {},
   "outputs": [
    {
     "name": "stdout",
     "output_type": "stream",
     "text": [
      "123-456\n",
      "123\n",
      "456\n"
     ]
    }
   ],
   "source": [
    "# Group \n",
    "match = re.search(r'(\\d+)-(\\d+)',\"My code is 123-456\")\n",
    "print(match.group(0))\n",
    "print(match.group(1))\n",
    "print(match.group(2))"
   ]
  },
  {
   "cell_type": "code",
   "execution_count": null,
   "id": "e48696f6",
   "metadata": {},
   "outputs": [],
   "source": []
  }
 ],
 "metadata": {
  "kernelspec": {
   "display_name": "Python 3",
   "language": "python",
   "name": "python3"
  },
  "language_info": {
   "codemirror_mode": {
    "name": "ipython",
    "version": 3
   },
   "file_extension": ".py",
   "mimetype": "text/x-python",
   "name": "python",
   "nbconvert_exporter": "python",
   "pygments_lexer": "ipython3",
   "version": "3.12.0"
  }
 },
 "nbformat": 4,
 "nbformat_minor": 5
}
