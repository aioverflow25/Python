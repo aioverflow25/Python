{
 "cells": [
  {
   "cell_type": "markdown",
   "id": "8ced26a6",
   "metadata": {},
   "source": [
    "# Functions Basics"
   ]
  },
  {
   "cell_type": "code",
   "execution_count": 4,
   "id": "b6e435aa",
   "metadata": {},
   "outputs": [
    {
     "name": "stdout",
     "output_type": "stream",
     "text": [
      "12 is even\n"
     ]
    }
   ],
   "source": [
    "# Defining a simple function\n",
    "def even_or_odd(num):\n",
    "    '''Hey this function perform if a number is even or odd'''\n",
    "    if num % 2 == 0:\n",
    "        print(f'{num} is even')\n",
    "    else:\n",
    "        print(f'{num} is odd')\n",
    "even_or_odd(12)"
   ]
  },
  {
   "cell_type": "code",
   "execution_count": 6,
   "id": "cf517333",
   "metadata": {},
   "outputs": [
    {
     "name": "stdout",
     "output_type": "stream",
     "text": [
      "Good Morning Raman\n",
      "Good Morning Madhu\n"
     ]
    }
   ],
   "source": [
    "# Default parameter\n",
    "def greet(name=\"Raman\"):\n",
    "    print(f'Good Morning {name}')\n",
    "greet()\n",
    "greet(\"Madhu\")"
   ]
  },
  {
   "cell_type": "code",
   "execution_count": 8,
   "id": "6577a811",
   "metadata": {},
   "outputs": [
    {
     "name": "stdout",
     "output_type": "stream",
     "text": [
      "Sumit\n",
      "Maths\n",
      "Science\n",
      "Delhi\n"
     ]
    }
   ],
   "source": [
    "# Postional and keyword args\n",
    "def funct(name,*args,city=\"Delhi\"):\n",
    "    print(name)\n",
    "    for x in args:\n",
    "        print(x)\n",
    "    print(city)\n",
    "\n",
    "funct(\"Sumit\",\"Maths\",\"Science\")   "
   ]
  },
  {
   "cell_type": "code",
   "execution_count": 11,
   "id": "a2a46293",
   "metadata": {},
   "outputs": [
    {
     "name": "stdout",
     "output_type": "stream",
     "text": [
      "Raman\n",
      "28\n",
      "Gen AI\n",
      "('Python', 'NLP', 'LLM')\n",
      "{'posting': 'Gaduly', 'post': 'dfo'}\n",
      "Python\n",
      "NLP\n",
      "LLM\n",
      "posting->Gaduly\n",
      "post->dfo\n"
     ]
    }
   ],
   "source": [
    "# All 4 argumrnts\n",
    "def student(name,age,course=\"Unknown\",*skills,**details):\n",
    "    print(name)\n",
    "    print(age)\n",
    "    print(course)\n",
    "    print(skills)\n",
    "    print(details)\n",
    "    for item in skills:\n",
    "        print(item)\n",
    "    for key,value in details.items():\n",
    "        print(f'{key}->{value}')\n",
    "\n",
    "student(\n",
    "    \"Raman\",\n",
    "    28,\n",
    "    \"Gen AI\",\n",
    "    \"Python\",\"NLP\",\"LLM\",\n",
    "    posting='Gaduly',post='dfo'\n",
    ")"
   ]
  },
  {
   "cell_type": "markdown",
   "id": "99c6946a",
   "metadata": {},
   "source": [
    "# Lambda Function"
   ]
  },
  {
   "cell_type": "code",
   "execution_count": 12,
   "id": "f4633431",
   "metadata": {},
   "outputs": [
    {
     "data": {
      "text/plain": [
       "5"
      ]
     },
     "execution_count": 12,
     "metadata": {},
     "output_type": "execute_result"
    }
   ],
   "source": [
    "\n",
    "#Simple addition\n",
    "addition = lambda a,b:a+b\n",
    "addition(2,3)"
   ]
  },
  {
   "cell_type": "code",
   "execution_count": 14,
   "id": "ef57cc43",
   "metadata": {},
   "outputs": [
    {
     "data": {
      "text/plain": [
       "False"
      ]
     },
     "execution_count": 14,
     "metadata": {},
     "output_type": "execute_result"
    }
   ],
   "source": [
    "# Simple Even Odd\n",
    "even_or_odd = lambda a : (a%2==0)\n",
    "even_or_odd(15)"
   ]
  },
  {
   "cell_type": "code",
   "execution_count": 15,
   "id": "f2673014",
   "metadata": {},
   "outputs": [
    {
     "data": {
      "text/plain": [
       "14"
      ]
     },
     "execution_count": 15,
     "metadata": {},
     "output_type": "execute_result"
    }
   ],
   "source": [
    "# Multiple arguments\n",
    "addition = lambda x,y,z : x+y+z\n",
    "addition(12,1,1)"
   ]
  },
  {
   "cell_type": "code",
   "execution_count": 19,
   "id": "5519d5a2",
   "metadata": {},
   "outputs": [
    {
     "name": "stdout",
     "output_type": "stream",
     "text": [
      "[1, 4, 9, 16, 25]\n"
     ]
    },
    {
     "data": {
      "text/plain": [
       "[10, 20, 30, 40, 50]"
      ]
     },
     "execution_count": 19,
     "metadata": {},
     "output_type": "execute_result"
    }
   ],
   "source": [
    "# Map\n",
    "li = [1,2,3,4,5]\n",
    "print(list(map(lambda x : x**2,li)))\n",
    "def square(x):\n",
    "    return x*10\n",
    "list(map(square,li))"
   ]
  },
  {
   "cell_type": "code",
   "execution_count": 20,
   "id": "68a3ca20",
   "metadata": {},
   "outputs": [
    {
     "data": {
      "text/plain": [
       "[3, 5, 7, 9]"
      ]
     },
     "execution_count": 20,
     "metadata": {},
     "output_type": "execute_result"
    }
   ],
   "source": [
    "# Multiple iterables\n",
    "li1 = [1,2,3,4]\n",
    "li2 = [2,3,4,5]\n",
    "list(map(lambda x,y : x+y,li1,li2))"
   ]
  },
  {
   "cell_type": "code",
   "execution_count": 21,
   "id": "b06264d1",
   "metadata": {},
   "outputs": [
    {
     "data": {
      "text/plain": [
       "[1, 2, 3, 4, 5]"
      ]
     },
     "execution_count": 21,
     "metadata": {},
     "output_type": "execute_result"
    }
   ],
   "source": [
    "# Convert a list of string to list of inegers\n",
    "str_numbers = ['1','2','3','4','5']\n",
    "list(map(int,str_numbers))"
   ]
  },
  {
   "cell_type": "code",
   "execution_count": 22,
   "id": "9ef5eff5",
   "metadata": {},
   "outputs": [
    {
     "data": {
      "text/plain": [
       "['APPLE', 'BANANA', 'CHERRY']"
      ]
     },
     "execution_count": 22,
     "metadata": {},
     "output_type": "execute_result"
    }
   ],
   "source": [
    "# Do Upper case in  list of words \n",
    "words=['apple','banana','cherry']\n",
    "list(map(str.upper,words))"
   ]
  },
  {
   "cell_type": "code",
   "execution_count": 25,
   "id": "7eae2c41",
   "metadata": {},
   "outputs": [
    {
     "name": "stdout",
     "output_type": "stream",
     "text": [
      "Aman\n"
     ]
    },
    {
     "data": {
      "text/plain": [
       "['Aman', 'Raman', 'Madhu']"
      ]
     },
     "execution_count": 25,
     "metadata": {},
     "output_type": "execute_result"
    }
   ],
   "source": [
    "# List of dictionary \n",
    "def get_name(person):\n",
    "    return person['name']\n",
    "dict1 = {'name':'Aman','age':24}\n",
    "print(get_name(dict1))\n",
    "li_of_dict = [\n",
    "    {'name':'Aman','age':24},\n",
    "    {'name':'Raman','age':28},\n",
    "    {'name':'Madhu','age':32}\n",
    "]\n",
    "list(map(get_name,li_of_dict))"
   ]
  },
  {
   "cell_type": "markdown",
   "id": "78aac1e2",
   "metadata": {},
   "source": [
    "# Filter"
   ]
  },
  {
   "cell_type": "code",
   "execution_count": 26,
   "id": "0ea1b28a",
   "metadata": {},
   "outputs": [
    {
     "data": {
      "text/plain": [
       "[2, 4, 6, 8, 10]"
      ]
     },
     "execution_count": 26,
     "metadata": {},
     "output_type": "execute_result"
    }
   ],
   "source": [
    "# Basic example\n",
    "def even(num):\n",
    "    if num % 2 == 0:\n",
    "        return True\n",
    "li = [1,2,3,4,5,6,7,8,9,10]\n",
    "list(filter(even,li))"
   ]
  },
  {
   "cell_type": "code",
   "execution_count": 27,
   "id": "91f3e40e",
   "metadata": {},
   "outputs": [
    {
     "data": {
      "text/plain": [
       "[2, 4, 6, 8, 10]"
      ]
     },
     "execution_count": 27,
     "metadata": {},
     "output_type": "execute_result"
    }
   ],
   "source": [
    "# Map And Filter\n",
    "list(filter(lambda x:x%2==0 , li))"
   ]
  },
  {
   "cell_type": "code",
   "execution_count": 28,
   "id": "8f0082ba",
   "metadata": {},
   "outputs": [
    {
     "data": {
      "text/plain": [
       "[6, 8, 10]"
      ]
     },
     "execution_count": 28,
     "metadata": {},
     "output_type": "execute_result"
    }
   ],
   "source": [
    "# Even and greater then Five\n",
    "list(filter(lambda x : x%2==0 and x>5 , li))"
   ]
  },
  {
   "cell_type": "code",
   "execution_count": 38,
   "id": "f475b83b",
   "metadata": {},
   "outputs": [
    {
     "data": {
      "text/plain": [
       "['Raman', 'Madhu', 'Yashica']"
      ]
     },
     "execution_count": 38,
     "metadata": {},
     "output_type": "execute_result"
    }
   ],
   "source": [
    "# Apply filter to check age is greater than 18 in dictionary\n",
    "li = [\n",
    "    {'name':'Raman','age':28},\n",
    "    {'name':'Aman','age':16},\n",
    "    {'name':'Madhu','age':32},\n",
    "    {'name':'Yashica','age':26},\n",
    "    {'name':'Shruti','age':8}\n",
    "]\n",
    "list(map(lambda p:p['name'],(filter(lambda p : p['age']>18,li))))"
   ]
  },
  {
   "cell_type": "code",
   "execution_count": null,
   "id": "93cc843a",
   "metadata": {},
   "outputs": [],
   "source": []
  }
 ],
 "metadata": {
  "kernelspec": {
   "display_name": "Python 3",
   "language": "python",
   "name": "python3"
  },
  "language_info": {
   "codemirror_mode": {
    "name": "ipython",
    "version": 3
   },
   "file_extension": ".py",
   "mimetype": "text/x-python",
   "name": "python",
   "nbconvert_exporter": "python",
   "pygments_lexer": "ipython3",
   "version": "3.12.0"
  }
 },
 "nbformat": 4,
 "nbformat_minor": 5
}
