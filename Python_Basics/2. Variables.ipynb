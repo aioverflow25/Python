{
 "cells": [
  {
   "cell_type": "code",
   "execution_count": 4,
   "id": "a0ee894b",
   "metadata": {},
   "outputs": [
    {
     "name": "stdout",
     "output_type": "stream",
     "text": [
      "<class 'int'>\n",
      "12 <class 'str'>\n"
     ]
    }
   ],
   "source": [
    "# Type conversion\n",
    "a = 12\n",
    "print(type(a))\n",
    "a = str(a)\n",
    "print(a,type(a))"
   ]
  },
  {
   "cell_type": "code",
   "execution_count": null,
   "id": "fc6b9e7e",
   "metadata": {},
   "outputs": [
    {
     "name": "stdout",
     "output_type": "stream",
     "text": [
      "5.0\n"
     ]
    }
   ],
   "source": [
    "# Type conversion example\n",
    "height = 5.312\n",
    "height = float(int(height))\n",
    "print(height)"
   ]
  },
  {
   "cell_type": "code",
   "execution_count": null,
   "id": "f93eddd8",
   "metadata": {},
   "outputs": [],
   "source": [
    "# Simple calculator\n",
    "n1 = int(input(\"Enter First Number: \"))\n",
    "n2 = int(input('Enter second number: '))\n",
    "add = n1+n2\n",
    "substract = n1-n2\n",
    "multiply = n1*n2\n",
    "div = n1/n2\n",
    "print(\"Addition is : \",add)\n",
    "print(\"Substraction is : \",substract)\n",
    "print(\"Multiplication is : \",multiply)\n",
    "print(\"Division is : \",div)"
   ]
  },
  {
   "cell_type": "code",
   "execution_count": null,
   "id": "30bb5b47",
   "metadata": {},
   "outputs": [],
   "source": []
  }
 ],
 "metadata": {
  "kernelspec": {
   "display_name": "Python 3",
   "language": "python",
   "name": "python3"
  },
  "language_info": {
   "codemirror_mode": {
    "name": "ipython",
    "version": 3
   },
   "file_extension": ".py",
   "mimetype": "text/x-python",
   "name": "python",
   "nbconvert_exporter": "python",
   "pygments_lexer": "ipython3",
   "version": "3.12.0"
  }
 },
 "nbformat": 4,
 "nbformat_minor": 5
}
